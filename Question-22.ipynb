{
 "cells": [
  {
   "cell_type": "code",
   "execution_count": 5,
   "id": "8b240ecf",
   "metadata": {},
   "outputs": [],
   "source": [
    "import sqlite3\n",
    "con = sqlite3.connect('Weather.db')\n",
    "cur = con.cursor()\n",
    "cur.execute(\"CREATE TABLE weather (id int,recordDate date,temperature int )\")\n",
    "cur.execute(\"INSERT INTO weather VALUES(1, '2015-01-01' ,10)\")\n",
    "cur.execute(\"INSERT INTO weather VALUES(2, '2015-01-02' ,25)\")\n",
    "cur.execute(\"INSERT INTO weather VALUES(3, '2015-01-03' ,20)\")\n",
    "cur.execute(\"INSERT INTO weather VALUES(4, '2015-01-04' ,30)\")\n",
    "con.commit()\n",
    "con.close()"
   ]
  },
  {
   "cell_type": "code",
   "execution_count": 10,
   "id": "ceb5be69",
   "metadata": {},
   "outputs": [
    {
     "name": "stdout",
     "output_type": "stream",
     "text": [
      "2\n",
      "4\n"
     ]
    }
   ],
   "source": [
    "con = sqlite3.connect('Weather.db')\n",
    "cur = con.cursor()\n",
    "cur.execute('''SELECT w1.id FROM weather w1 \n",
    "            JOIN weather w2 ON w1.recordDate = DATE(w2.recordDate, '+1 day') \n",
    "            WHERE w1.temperature > w2.temperature''')     \n",
    "result = cur.fetchall()\n",
    "\n",
    "for row in result:\n",
    "    print(row[0])"
   ]
  },
  {
   "cell_type": "code",
   "execution_count": null,
   "id": "19c76f37",
   "metadata": {},
   "outputs": [],
   "source": []
  }
 ],
 "metadata": {
  "kernelspec": {
   "display_name": "Python 3 (ipykernel)",
   "language": "python",
   "name": "python3"
  },
  "language_info": {
   "codemirror_mode": {
    "name": "ipython",
    "version": 3
   },
   "file_extension": ".py",
   "mimetype": "text/x-python",
   "name": "python",
   "nbconvert_exporter": "python",
   "pygments_lexer": "ipython3",
   "version": "3.11.4"
  }
 },
 "nbformat": 4,
 "nbformat_minor": 5
}
